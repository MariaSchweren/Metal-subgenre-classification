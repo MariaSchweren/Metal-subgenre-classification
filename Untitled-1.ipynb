{
 "cells": [
  {
   "cell_type": "markdown",
   "metadata": {},
   "source": [
    "# Scraping \n",
    "- multiple scraping scripts for different websites as base for dataset \n",
    "add more desciptive text\n",
    "## MetalScraper \n",
    "- Main script \n",
    "add more desciptive text \n",
    "## LinkScraper\n",
    "- scraping a list of links for the dataset from the websites \n",
    "add more descriptive text\n"
   ]
  },
  {
   "cell_type": "markdown",
   "metadata": {},
   "source": [
    "# Libraries and packages\n",
    "- beautiful soup \n",
    "- requests \n",
    "- urllib\n"
   ]
  },
  {
   "cell_type": "code",
   "execution_count": 7,
   "metadata": {},
   "outputs": [],
   "source": [
    "import urllib\n",
    "from bs4 import BeautifulSoup\n",
    "import requests"
   ]
  },
  {
   "cell_type": "markdown",
   "metadata": {},
   "source": [
    "## Linkscraper script "
   ]
  },
  {
   "cell_type": "code",
   "execution_count": 8,
   "metadata": {},
   "outputs": [],
   "source": [
    "import requests\n",
    "varlist = open(\"List.csv\", \"w\")\n",
    "letterlist = [\"A\", \"B\", \"C\", \"D\", \"E\", \"F\", \"G\", \"H\", \"I\", \"J\", \"K\", \"L\", \"M\", \"N\", \"O\", \"P\", \"Q\", \"R\", \"S\", \"T\", \"U\", \"V\", \"W\", \"X\", \"Y\", \"Z\", \"NBR\"]"
   ]
  },
  {
   "cell_type": "markdown",
   "metadata": {},
   "source": [
    "varlist: list for only writing-output in Csv-file \"List.csv\" -> output= all Links for all bands to use with the metal craper script in the next step"
   ]
  },
  {
   "cell_type": "markdown",
   "metadata": {},
   "source": [
    "letterlist: List for all Bandnames categorized by start-letter of their Name on the website "
   ]
  },
  {
   "cell_type": "code",
   "execution_count": null,
   "metadata": {},
   "outputs": [],
   "source": [
    "for letter in letterlist:\n",
    "\n",
    "    counter = 200\n",
    "    response = requests.get(f\"https://www.metal-archives.com/label/ajax-list/json/1/l/{letter}?sEcho=1&iColumns=7&sColumns=&iDisplayStart=0&iDisplayLength={counter}&mDataProp_0=0&mDataProp_1=1&mDataProp_2=2&mDataProp_3=3&mDataProp_4=4&mDataProp_5=5&mDataProp_6=6&iSortCol_0=1&sSortDir_0=asc&iSortingCols=1&bSortable_0=false&bSortable_1=true&bSortable_2=true&bSortable_3=true&bSortable_4=true&bSortable_5=false&bSortable_6=true&_=1708260299235\", headers={\"User-Agent\": \"Mozilla/5.0 (Windows NT 10.0; Win64; x64)\"})\n",
    "    response_json = response.json()\n",
    "    counter = response_json[\"iTotalRecords\"]\n",
    "    print (counter, letter)\n",
    "\n",
    "    response = requests.get(f\"https://www.metal-archives.com/label/ajax-list/json/1/l/{letter}?sEcho=1&iColumns=7&sColumns=&iDisplayStart=0&iDisplayLength={counter}&mDataProp_0=0&mDataProp_1=1&mDataProp_2=2&mDataProp_3=3&mDataProp_4=4&mDataProp_5=5&mDataProp_6=6&iSortCol_0=1&sSortDir_0=asc&iSortingCols=1&bSortable_0=false&bSortable_1=true&bSortable_2=true&bSortable_3=true&bSortable_4=true&bSortable_5=false&bSortable_6=true&_=1708260299235\", headers={\"User-Agent\": \"Mozilla/5.0 (Windows NT 10.0; Win64; x64)\"})\n",
    "    response_json = response.json()\n",
    "    links = response_json[\"aaData\"]       \n",
    "    output_String = letter\n",
    "\n",
    "    for entry in links:\n",
    "        output_String += \";\" + entry[1].split('\"')[1]\n",
    "    varlist.write(output_String + \"\\n\")"
   ]
  }
 ],
 "metadata": {
  "kernelspec": {
   "display_name": "Python 3",
   "language": "python",
   "name": "python3"
  },
  "language_info": {
   "codemirror_mode": {
    "name": "ipython",
    "version": 3
   },
   "file_extension": ".py",
   "mimetype": "text/x-python",
   "name": "python",
   "nbconvert_exporter": "python",
   "pygments_lexer": "ipython3",
   "version": "3.11.1"
  }
 },
 "nbformat": 4,
 "nbformat_minor": 2
}
